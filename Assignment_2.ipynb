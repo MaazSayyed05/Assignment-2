{
 "cells": [
  {
   "cell_type": "code",
   "execution_count": null,
   "id": "42c8f908-3567-4b64-b86a-2d8fc8dc817d",
   "metadata": {},
   "outputs": [],
   "source": [
    "# Q1\n",
    "marks = int(input(\"Enter your marks: \"))\n",
    "\n",
    "if marks > 90:\n",
    "    print(\"A\")\n",
    "\n",
    "elif marks in range(81,91):\n",
    "    print(\"B\")\n",
    "\n",
    "elif marks in range(60,81):\n",
    "    print(\"C\")\n",
    "\n",
    "else:\n",
    "    print(\"D\")\n",
    "\n",
    "\n"
   ]
  },
  {
   "cell_type": "code",
   "execution_count": null,
   "id": "af40a8ce-87b2-4615-96d0-daf1b0a27cee",
   "metadata": {},
   "outputs": [],
   "source": [
    "# Q2\n",
    "cp = float(input(\"Enter cost price: \"))\n",
    "if cp > 100000:\n",
    "    print(\"Road Tax = \"+str((15/100)*cp))\n",
    "\n",
    "elif cp in range(50001, 100000):\n",
    "    print(\"Road Tax = \"+str((10/100)*cp))\n",
    "\n",
    "else:\n",
    "    print(\"Road Tax = \"+str((5/100)*cp))\n",
    "\n",
    "\n"
   ]
  },
  {
   "cell_type": "code",
   "execution_count": null,
   "id": "805c66f8-7900-422b-84f3-0678db2ab834",
   "metadata": {},
   "outputs": [],
   "source": [
    "# Q3\n",
    "city = input(\"Enter name of city: \")\n",
    "if city==\"Delhi\":\n",
    "    print(\"Red Fort\")\n",
    "\n",
    "elif city==\"Agra\":\n",
    "    print(\"Taj Mahal\")\n",
    "\n",
    "elif city==\"Jaipur\":\n",
    "    print(\"Jal Mahal\")\n",
    "\n",
    "    \n",
    "\n",
    "\n"
   ]
  },
  {
   "cell_type": "code",
   "execution_count": null,
   "id": "b596a6c7-8b09-4911-afe6-90df9e72e254",
   "metadata": {},
   "outputs": [],
   "source": [
    "# Q4\n",
    "l1=[]\n",
    "\n",
    "for i in range(0,11):\n",
    "    if i%3==0:\n",
    "        l1.append(i)\n",
    "l1\n",
    "\n",
    "print(str(len(l1))+\" numbers are divisible by 3 from 0 to 10.\")\n",
    "print(\"Numbers divisible by 3 from 0 to 10 are: \")\n",
    "# print()\n",
    "l1\n",
    "\n"
   ]
  },
  {
   "cell_type": "code",
   "execution_count": 2,
   "id": "5f0af692-aeff-408c-8e80-bb3de203c5f6",
   "metadata": {},
   "outputs": [
    {
     "name": "stdout",
     "output_type": "stream",
     "text": [
      "0\n",
      "1\n",
      "2\n",
      "3\n",
      "4\n",
      "5\n",
      "6\n",
      "7\n",
      "8\n",
      "9\n",
      "10\n"
     ]
    }
   ],
   "source": [
    "# Q5\n",
    "# Python While Loop is used to execute a block of statements repeatedly until a given condition is satisfied. \n",
    "# And when the condition becomes false, the line immediately after the loop in the program is executed.\n",
    "# While loop falls under the category of indefinite iteration. \n",
    "# Indefinite iteration means that the number of times the loop is executed isn’t specified explicitly in advance. \n",
    "i=0\n",
    "while i<=10:\n",
    "    print(i)\n",
    "    i=i+1\n",
    "\n",
    "# In above e.g., the while loop will execute till the value of i is less than or equal to 10\n",
    "\n"
   ]
  },
  {
   "cell_type": "code",
   "execution_count": null,
   "id": "ffe93b8d-040d-46a7-8e5f-6e48b2eaee5a",
   "metadata": {},
   "outputs": [],
   "source": [
    "# Q6_1\n",
    "n=int(input(\"Enter no. of rows for pattern: \"))\n",
    "\n",
    "i=1;j=0\n",
    "\n",
    "while i<=n:\n",
    "    while j<i:\n",
    "        print(\"*\",end=\"\")\n",
    "        j=j+1\n",
    "    print(\"\\n\")\n",
    "    i=i+1\n",
    "    j=0\n",
    "    \n",
    "    \n",
    "    \n",
    "# Q6_2\n",
    "i=0;j=1\n",
    "while i<=n:\n",
    "    while j<=i:\n",
    "        print(j,end=\"\")\n",
    "        j=j+1\n",
    "    print(\"\\n\")\n",
    "    i=i+1;j=1\n",
    "    \n",
    "    \n",
    "    \n",
    "# Q6_3\n",
    "i=0;j=1\n",
    "while i<n:\n",
    "    while j<=(n-i):\n",
    "        print(\"*\",end=\"\")\n",
    "        j=j+1\n",
    "    print(\"\\n\")\n",
    "    i=i+1;j=1\n"
   ]
  },
  {
   "cell_type": "code",
   "execution_count": 1,
   "id": "eedd5caf-c92f-482d-90ca-fff2afb91af3",
   "metadata": {},
   "outputs": [
    {
     "name": "stdout",
     "output_type": "stream",
     "text": [
      "10\n",
      "9\n",
      "8\n",
      "7\n",
      "6\n",
      "5\n",
      "4\n",
      "3\n",
      "2\n",
      "1\n",
      "0\n"
     ]
    }
   ],
   "source": [
    "# Q7\n",
    "i=10\n",
    "while i>=0:\n",
    "    print(i)\n",
    "    i=i-1\n",
    "\n",
    "\n",
    "\n"
   ]
  },
  {
   "cell_type": "code",
   "execution_count": 4,
   "id": "3176a6fe-662b-4d45-aba3-2111b08af562",
   "metadata": {},
   "outputs": [
    {
     "name": "stdout",
     "output_type": "stream",
     "text": [
      "10\n",
      "9\n",
      "8\n",
      "7\n",
      "6\n",
      "5\n",
      "4\n",
      "3\n",
      "2\n",
      "1\n",
      "0\n"
     ]
    }
   ],
   "source": [
    "# Q8\n",
    "i=10\n",
    "while i>=0:\n",
    "    print(i)\n",
    "    i=i-1\n"
   ]
  }
 ],
 "metadata": {
  "kernelspec": {
   "display_name": "Python 3 (ipykernel)",
   "language": "python",
   "name": "python3"
  },
  "language_info": {
   "codemirror_mode": {
    "name": "ipython",
    "version": 3
   },
   "file_extension": ".py",
   "mimetype": "text/x-python",
   "name": "python",
   "nbconvert_exporter": "python",
   "pygments_lexer": "ipython3",
   "version": "3.10.8"
  }
 },
 "nbformat": 4,
 "nbformat_minor": 5
}
